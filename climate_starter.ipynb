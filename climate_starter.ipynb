{
 "cells": [
  {
   "cell_type": "code",
   "execution_count": 1,
   "metadata": {},
   "outputs": [],
   "source": [
    "%matplotlib inline\n",
    "from matplotlib import style\n",
    "style.use('fivethirtyeight')\n",
    "import matplotlib.pyplot as plt\n",
    "import numpy as np\n",
    "import pandas as pd\n",
    "import datetime as dt\n",
    "from datetime import timedelta"
   ]
  },
  {
   "cell_type": "code",
   "execution_count": 2,
   "metadata": {},
   "outputs": [],
   "source": [
    "# Python SQL toolkit and Object Relational Mapper\n",
    "import sqlalchemy\n",
    "from sqlalchemy.ext.automap import automap_base\n",
    "from sqlalchemy.orm import Session, sessionmaker\n",
    "from sqlalchemy import create_engine, func, MetaData\n",
    "from sqlalchemy import inspect, Table, select\n",
    "from sqlalchemy import desc\n",
    "\n",
    "# Import the dependencies.\n",
    "from sqlalchemy import Column, Integer, String, Float"
   ]
  },
  {
   "cell_type": "markdown",
   "metadata": {},
   "source": [
    "# Reflect Tables into SQLAlchemy ORM"
   ]
  },
  {
   "cell_type": "code",
   "execution_count": 3,
   "metadata": {},
   "outputs": [],
   "source": [
    "# create engine to hawaii.sqlite\n",
    "engine = create_engine(\"sqlite:///Resources/hawaii.sqlite\")\n",
    "conn = engine.connect()"
   ]
  },
  {
   "cell_type": "code",
   "execution_count": 4,
   "metadata": {},
   "outputs": [],
   "source": [
    "# Statements needed to identify all tables and all columns within tables of the sqlite db\n",
    "# https://bootcampspot.instructure.com/courses/4981/external_tools/313\n",
    "\n",
    "# Create MetaData object\n",
    "metadata = MetaData()\n",
    "\n",
    "# Reflect database tables into MetaData\n",
    "metadata.reflect(bind=engine)"
   ]
  },
  {
   "cell_type": "code",
   "execution_count": 5,
   "metadata": {},
   "outputs": [],
   "source": [
    "# reflect existing database into new model\n",
    "Base = automap_base()\n",
    "\n",
    "# reflect tables\n",
    "Base.prepare(autoload_with=engine)"
   ]
  },
  {
   "cell_type": "code",
   "execution_count": 6,
   "metadata": {},
   "outputs": [
    {
     "data": {
      "text/plain": [
       "['station', 'measurement']"
      ]
     },
     "execution_count": 6,
     "metadata": {},
     "output_type": "execute_result"
    }
   ],
   "source": [
    "# View all of the classes that automap found\n",
    "Base.classes.keys()"
   ]
  },
  {
   "cell_type": "code",
   "execution_count": 7,
   "metadata": {},
   "outputs": [
    {
     "name": "stdout",
     "output_type": "stream",
     "text": [
      "Table: measurement\n",
      "  Column: id\n",
      "  Column: station\n",
      "  Column: date\n",
      "  Column: prcp\n",
      "  Column: tobs\n",
      "Table: station\n",
      "  Column: id\n",
      "  Column: station\n",
      "  Column: name\n",
      "  Column: latitude\n",
      "  Column: longitude\n",
      "  Column: elevation\n"
     ]
    }
   ],
   "source": [
    "# Statements needed to identify table and column names in sqlite db\n",
    "# https://bootcampspot.instructure.com/courses/4981/external_tools/313\n",
    "\n",
    "# Create an inspector\n",
    "inspector = inspect(engine)\n",
    "\n",
    "# Get a list of table names in the database\n",
    "table_names = inspector.get_table_names()\n",
    "\n",
    "# Iterate over the tables and print table name and its columns\n",
    "for table_name in table_names:\n",
    "    table = metadata.tables[table_name]\n",
    "    print(f\"Table: {table_name}\")\n",
    "    for column in table.columns:\n",
    "        print(f\"  Column: {column.name}\")   "
   ]
  },
  {
   "cell_type": "code",
   "execution_count": 8,
   "metadata": {},
   "outputs": [
    {
     "name": "stdout",
     "output_type": "stream",
     "text": [
      "['id']\n",
      "['id']\n"
     ]
    }
   ],
   "source": [
    "#Get primary and foreign key information from each table\n",
    "#https://bootcampspot.instructure.com/courses/4981/external_tools/313 provided correct syntax\n",
    "primary_keys = inspector.get_pk_constraint('measurement')\n",
    "print(primary_keys['constrained_columns'])    \n",
    "    \n",
    "primary_keys = inspector.get_pk_constraint('station')\n",
    "print(primary_keys['constrained_columns']) "
   ]
  },
  {
   "cell_type": "code",
   "execution_count": 9,
   "metadata": {},
   "outputs": [],
   "source": [
    "# Save references to each table\n",
    "Measurement = Base.classes.measurement\n",
    "Station = Base.classes.station"
   ]
  },
  {
   "cell_type": "code",
   "execution_count": 10,
   "metadata": {},
   "outputs": [],
   "source": [
    "# Create session (link) from Python to DB\n",
    "# Create Session Object to Connect to DB\n",
    "Session = sessionmaker(bind=engine)\n",
    "session = Session()"
   ]
  },
  {
   "cell_type": "markdown",
   "metadata": {},
   "source": [
    "# Exploratory Precipitation Analysis"
   ]
  },
  {
   "cell_type": "code",
   "execution_count": 11,
   "metadata": {},
   "outputs": [
    {
     "name": "stdout",
     "output_type": "stream",
     "text": [
      "Number of rows in Measurement table: 19550\n"
     ]
    }
   ],
   "source": [
    "# 'session' object is bound to engine\n",
    "# Query to count the rows in Measurement table\n",
    "row_count = session.query(func.count(Measurement.id)).scalar()\n",
    "\n",
    "print(f\"Number of rows in Measurement table: {row_count}\")\n",
    "\n",
    "#session.query() creates query object\n",
    "#.scalar() executes query and returns count as scalar value"
   ]
  },
  {
   "cell_type": "code",
   "execution_count": 12,
   "metadata": {},
   "outputs": [
    {
     "name": "stdout",
     "output_type": "stream",
     "text": [
      "Most Recent Measurement Date: 2017-08-23\n"
     ]
    }
   ],
   "source": [
    "# Find the most recent date in the data set.\n",
    "# https://bootcampspot.instructure.com/courses/4981/external_tools/313 provided correct syntax\n",
    "\n",
    "# 1. Create select statement to find most recent date using Measurement class\n",
    "# Call all date values from database\n",
    "date_values = session.query(Measurement.date).all()\n",
    "\n",
    "# 2. Create query to find maximum (most recent) date in Measurement table \n",
    "# func.max() function calculates maximum date value, and .label('most_recent_date') assigns label to result\n",
    "stmt = session.query(func.max(Measurement.date).label('most_recent_date'))\n",
    "\n",
    "# 3. Execute query and fetch result\n",
    "# Line executes query within session context and fetches scalar result (most recent date from Measurement table)\n",
    "most_recent_measurement_date = stmt.scalar()\n",
    "print(\"Most Recent Measurement Date:\", most_recent_measurement_date)\n",
    "\n",
    "# Executing a SQLalchemy query using scalar() method returns single value from first column of first row of result set \n",
    "# Using scalar() on a query that returns a single value (such as an aggregate function), is a convenient way to retrieve that single value directly without having to deal with tuples or rows of data."
   ]
  },
  {
   "cell_type": "code",
   "execution_count": 13,
   "metadata": {},
   "outputs": [
    {
     "name": "stdout",
     "output_type": "stream",
     "text": [
      "Date 1 Year Ago: 2016-08-23 00:00:00\n",
      "Number of rows returned by the query: 2223\n"
     ]
    }
   ],
   "source": [
    "# Design a query to retrieve the last 12 months of precipitation data and plot the results. \n",
    "# Assistance provided by https://bootcampspot.instructure.com/courses/4981/external_tools/313\n",
    "\n",
    "# 1.Calculate the date one year from the last date in data set.\n",
    "# a. Calculate maximum date\n",
    "max_date_str = session.query(func.max(Measurement.date)).scalar()\n",
    "# b. Convert string date to datetime object before applying timedelta operation\n",
    "max_date_obj = dt.datetime.strptime(max_date_str, '%Y-%m-%d')\n",
    "# b.Subtract timedelta object from datetime object to find date one year ago\n",
    "one_year_ago = max_date_obj - timedelta(days=365)\n",
    "print(\"Date 1 Year Ago:\", one_year_ago)\n",
    "\n",
    "# 2. Perform a query to retrieve the data and precipitation scores\n",
    "# all() retrieves all query results as list of tuples \n",
    "last_12_months_data = session.query(Measurement.date, Measurement.prcp).filter(Measurement.date >= max_date_obj - timedelta(days=365)).all()\n",
    "\n",
    "#Count and print number of rows returned by query\n",
    "num_rows = len(last_12_months_data)\n",
    "print(\"Number of rows returned by the query:\", num_rows)"
   ]
  },
  {
   "cell_type": "code",
   "execution_count": 14,
   "metadata": {},
   "outputs": [
    {
     "name": "stdout",
     "output_type": "stream",
     "text": [
      "            Date  Precipitation\n",
      "0     2016-08-24           0.08\n",
      "1006  2016-08-24           0.00\n",
      "1524  2016-08-24           2.15\n",
      "702   2016-08-24           2.28\n",
      "360   2016-08-24           2.15\n",
      "...          ...            ...\n",
      "1522  2017-08-22           0.00\n",
      "1523  2017-08-23           0.08\n",
      "359   2017-08-23           0.00\n",
      "1005  2017-08-23           0.00\n",
      "2222  2017-08-23           0.45\n",
      "\n",
      "[2223 rows x 2 columns]\n"
     ]
    }
   ],
   "source": [
    "# 3. Save the query results as a Pandas DataFrame. Explicitly set the column names\n",
    "# a. Convert 'None' to 0.0 for days with no precipitation\n",
    "# Assistance provided by https://bootcampspot.instructure.com/courses/4981/external_tools/313\n",
    "last_12_months_data_fixed = [(date, 0.0 if value is None else value) for date, value in last_12_months_data]\n",
    "#print(last_12_months_data_fixed)\n",
    "len(last_12_months_data_fixed)\n",
    "# b. Extract date and precipitation values from query result into lists\n",
    "date = []\n",
    "precipitation = []\n",
    "date = [result[0] for result in last_12_months_data_fixed]\n",
    "precipitation = [result[1] for result in last_12_months_data_fixed]\n",
    "\n",
    "#c. Convert list to dictionary because Pandas requires data in dictionary format for easy conversion into DataFrame\n",
    "dataframe = pd.DataFrame({'Date': date, 'Precipitation': precipitation})\n",
    "\n",
    "#4. Sort the dataframe by date\n",
    "#Use sort_values() function in Pandas\n",
    "dataframe_sorted = dataframe.sort_values('Date')\n",
    "\n",
    "print(dataframe_sorted)"
   ]
  },
  {
   "cell_type": "code",
   "execution_count": 15,
   "metadata": {},
   "outputs": [
    {
     "data": {
      "image/png": "[encoded data removed]",
      "text/plain": [
       "<Figure size 640x480 with 1 Axes>"
      ]
     },
     "metadata": {},
     "output_type": "display_data"
    }
   ],
   "source": [
    "#5. Use Pandas Plotting with Matplotlib to plot the data\n",
    "plot_dataframe_sorted = pd.DataFrame(dataframe_sorted)\n",
    "\n",
    "# a.Create plot\n",
    "plt.plot(plot_dataframe_sorted['Date'], plot_dataframe_sorted['Precipitation'])\n",
    "plt.xlabel('Date')\n",
    "plt.ylabel('Precipitation')\n",
    "plt.title('Last 12 Months of Precipitation Data')\n",
    "\n",
    "# b. Rotate x-axis tick marks by 90 degrees\n",
    "plt.xticks(rotation=90)\n",
    "\n",
    "# c. Calculate indices for 5 equally spaced tick marks\n",
    "# assistance provided by https://bootcampspot.instructure.com/courses/4981/external_tools/3   \n",
    "num_ticks = 5\n",
    "tick_indices = np.linspace(0, 364, num_ticks, dtype=int)\n",
    "\n",
    "# d. Set x-axis tick positions using calculated indices\n",
    "plt.xticks(tick_indices)\n",
    "\n",
    "# e. Show plot\n",
    "plt.show()"
   ]
  },
  {
   "cell_type": "code",
   "execution_count": 16,
   "metadata": {},
   "outputs": [
    {
     "name": "stdout",
     "output_type": "stream",
     "text": [
      "       Precipitation\n",
      "count    2223.000000\n",
      "mean        0.159951\n",
      "std         0.441220\n",
      "min         0.000000\n",
      "25%         0.000000\n",
      "50%         0.010000\n",
      "75%         0.110000\n",
      "max         6.700000\n"
     ]
    }
   ],
   "source": [
    "# Use Pandas to calculate the summary statistics for the precipitation data\n",
    "\n",
    "# Calculate summary statistics using describe()\n",
    "summary_stats = dataframe_sorted.describe()\n",
    "print(summary_stats)"
   ]
  },
  {
   "cell_type": "markdown",
   "metadata": {},
   "source": [
    "# Exploratory Station Analysis"
   ]
  },
  {
   "cell_type": "code",
   "execution_count": 17,
   "metadata": {
    "scrolled": false
   },
   "outputs": [
    {
     "name": "stdout",
     "output_type": "stream",
     "text": [
      "9\n"
     ]
    }
   ],
   "source": [
    "# Design a query to calculate the total number of stations in the dataset\n",
    "\n",
    "# Count unique values in 'station' column of 'Station' table\n",
    "# 1. Construct query to count distinct stations\n",
    "query = select(func.count(func.distinct(Station.station)))\n",
    "\n",
    "# 2. Execute query and fetch results\n",
    "distinct_station_count = session.execute(query).scalar()\n",
    "\n",
    "print(distinct_station_count)"
   ]
  },
  {
   "cell_type": "code",
   "execution_count": 18,
   "metadata": {},
   "outputs": [
    {
     "name": "stdout",
     "output_type": "stream",
     "text": [
      "[('USC00519281', 2772), ('USC00519397', 2724), ('USC00513117', 2709), ('USC00519523', 2669), ('USC00516128', 2612), ('USC00514830', 2202), ('USC00511918', 1979), ('USC00517948', 1372), ('USC00518838', 511)]\n"
     ]
    }
   ],
   "source": [
    "# Design a query to find the most active stations (i.e. which stations have the most rows?)\n",
    "# List the stations and their counts in descending order.\n",
    "\n",
    "# Count number of instances a unique value of 'station' appears in Measurements table:\n",
    "counts_by_station = session.query(Measurement.station, func.count(Measurement.station))\\\n",
    "    .group_by(Measurement.station).order_by(func.count(Measurement.station).desc()).all()\n",
    "\n",
    "print(counts_by_station)"
   ]
  },
  {
   "cell_type": "code",
   "execution_count": 19,
   "metadata": {},
   "outputs": [
    {
     "name": "stdout",
     "output_type": "stream",
     "text": [
      "{'USC00519281': 2772, 'USC00519397': 2724, 'USC00513117': 2709, 'USC00519523': 2669, 'USC00516128': 2612, 'USC00514830': 2202, 'USC00511918': 1979, 'USC00517948': 1372, 'USC00518838': 511}\n"
     ]
    }
   ],
   "source": [
    "# Using the most active station id from the previous query, calculate the lowest, highest, and average temperature.\n",
    "# Assistance provided by https://bootcampspot.instructure.com/courses/4981/external_tools/313\n",
    "\n",
    "#1. Identify most active station \n",
    "#a. Convert 'counts_by_station' list of tuples to dictionary with keys as [0] element and values as [1] element\n",
    "counts_by_station_dict = {key: value for key, value in counts_by_station}\n",
    "print(counts_by_station_dict)\n",
    "\n",
    "# Dictionary comprehension {key: value for key, value in data} unpacks tuples \n",
    "# list and uses [0] element as key and [1] element as value when creating dictionary\n",
    "\n",
    "# In counts_by_station_dict = {key: value for key, value in counts_by_station}, Python using iterable \n",
    "# unpacking to assign elements of each tuple in counts_by_station list to key and value\n",
    "# For each tuple in counts_by_station list, unpacking assigns first element of tuple to key and second element to value\n",
    "\n",
    "# Dictionary comprehension then creates dictionary where keys are taken from key variable and values are taken from value variable"
   ]
  },
  {
   "cell_type": "code",
   "execution_count": 20,
   "metadata": {},
   "outputs": [
    {
     "name": "stdout",
     "output_type": "stream",
     "text": [
      "USC00519281\n"
     ]
    }
   ],
   "source": [
    "#(continued)\n",
    "\n",
    "# b. Find station in counts_by_station_dict with highest count value\n",
    "station_with_highest_count = max(counts_by_station_dict, key=counts_by_station_dict.get)\n",
    "# key=counts_by_station_dict.get specifies that max comparison should be based on values in dictionary, not keys\n",
    "\n",
    "print(station_with_highest_count)"
   ]
  },
  {
   "cell_type": "code",
   "execution_count": 21,
   "metadata": {},
   "outputs": [
    {
     "name": "stdout",
     "output_type": "stream",
     "text": [
      "Min: 59.0\n",
      "Max: 83.0\n",
      "Mean: 73.0968660968661\n"
     ]
    }
   ],
   "source": [
    "#(continued)\n",
    "\n",
    "#2. Calculate maximum date and most recent 12 months of dates\n",
    "max_date_str = session.query(func.max(Measurement.date)).scalar()\n",
    "max_date_obj = dt.datetime.strptime(max_date_str, '%Y-%m-%d')\n",
    "\n",
    "#3. Query for all past 12 months tobs from most active station\n",
    "last_12_months_active_tobs = session.query(Measurement.date, Measurement.tobs).filter(Measurement.date >= max_date_obj - timedelta(days=365)).filter(Measurement.station == station_with_highest_count).all()\n",
    "\n",
    "# 4. Extract float values from tuples and apply min, max, mean functions\n",
    "temperatures = [tup[1] for tup in last_12_months_active_tobs]\n",
    "min_value = min(temperatures)\n",
    "max_value = max(temperatures)\n",
    "mean_value = sum(temperatures) / len(temperatures)\n",
    "\n",
    "print(\"Min:\", min_value)\n",
    "print(\"Max:\", max_value)\n",
    "print(\"Mean:\", mean_value)"
   ]
  },
  {
   "cell_type": "code",
   "execution_count": 22,
   "metadata": {
    "scrolled": true
   },
   "outputs": [
    {
     "data": {
      "image/png": "[encoded data removed]",
      "text/plain": [
       "<Figure size 500x300 with 1 Axes>"
      ]
     },
     "metadata": {},
     "output_type": "display_data"
    }
   ],
   "source": [
    "# Using the most active station id, query last 12 months of tobs data for this station and plot the results as a histogram\n",
    "# Assistance provided by https://bootcampspot.instructure.com/courses/4981/external_tools/313\n",
    "                   \n",
    "# Part 1. \n",
    "#a. Query for most active station id and most recent 12 months of tobs for it\n",
    "last_12_months_active_tobs = session.query(Measurement.date, Measurement.tobs).filter(Measurement.date >= (max_date_obj - timedelta(days=365)), Measurement.station == station_with_highest_count).all()\n",
    "\n",
    "#b. Convert 'None' to 0.0 for days with no tobs measurement\n",
    "last_12_months_active_tobs_fixed = [(date, 0.0 if tobs is None else tobs) for date, tobs in last_12_months_active_tobs]\n",
    "    \n",
    "#c. Convert query results to list of dictionaries\n",
    "last12activetobs_list = []\n",
    "for row in last_12_months_active_tobs_fixed:\n",
    "    data_dict = {'date': row[0],'temperature': row[1]}\n",
    "    last12activetobs_list.append(data_dict) \n",
    "#print(last12activetobs_list)\n",
    "\n",
    "#Part 2\n",
    "#a. Extract temperature observations from 'last12activetobs_list'\n",
    "#temp_obs = [result[1] for result in last12activetobs_list]\n",
    "temp_obs = [result['temperature'] for result in last12activetobs_list]\n",
    "\n",
    "#b. Plot histogram\n",
    "plt.figure(figsize=(5, 3))\n",
    "plt.hist(temp_obs, bins=12, color='blue', edgecolor='black')\n",
    "plt.xlabel('Temperature Observations')\n",
    "plt.ylabel('Frequency')\n",
    "plt.title('Past 12 Months of Temperature Observation at Most Active Station')\n",
    "plt.grid(axis='y', alpha=0.75)\n",
    "plt.yticks(range(0, 60 + 10, 10))  # Customize y-axis ticks\n",
    "plt.show()"
   ]
  },
  {
   "cell_type": "markdown",
   "metadata": {},
   "source": [
    "# Close Session"
   ]
  },
  {
   "cell_type": "code",
   "execution_count": 23,
   "metadata": {},
   "outputs": [],
   "source": [
    "# Close Session\n",
    "session.close()"
   ]
  },
  {
   "cell_type": "code",
   "execution_count": null,
   "metadata": {},
   "outputs": [],
   "source": []
  }
 ],
 "metadata": {
  "anaconda-cloud": {},
  "kernel_info": {
   "name": "python3"
  },
  "kernelspec": {
   "display_name": "Python 3 (ipykernel)",
   "language": "python",
   "name": "python3"
  },
  "language_info": {
   "codemirror_mode": {
    "name": "ipython",
    "version": 3
   },
   "file_extension": ".py",
   "mimetype": "text/x-python",
   "name": "python",
   "nbconvert_exporter": "python",
   "pygments_lexer": "ipython3",
   "version": "3.11.5"
  },
  "nteract": {
   "version": "0.12.3"
  },
  "varInspector": {
   "cols": {
    "lenName": 16,
    "lenType": 16,
    "lenVar": 40
   },
   "kernels_config": {
    "python": {
     "delete_cmd_postfix": "",
     "delete_cmd_prefix": "del ",
     "library": "var_list.py",
     "varRefreshCmd": "print(var_dic_list())"
    },
    "r": {
     "delete_cmd_postfix": ") ",
     "delete_cmd_prefix": "rm(",
     "library": "var_list.r",
     "varRefreshCmd": "cat(var_dic_list()) "
    }
   },
   "types_to_exclude": [
    "module",
    "function",
    "builtin_function_or_method",
    "instance",
    "_Feature"
   ],
   "window_display": false
  }
 },
 "nbformat": 4,
 "nbformat_minor": 2
}
